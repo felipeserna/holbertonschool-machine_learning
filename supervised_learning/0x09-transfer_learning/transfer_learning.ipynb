{
  "nbformat": 4,
  "nbformat_minor": 0,
  "metadata": {
    "colab": {
      "name": "transfer_learning.ipynb",
      "provenance": [],
      "authorship_tag": "ABX9TyOEV3Hn9yGltSgr7Cz/HYC2",
      "include_colab_link": true
    },
    "kernelspec": {
      "name": "python3",
      "display_name": "Python 3"
    },
    "language_info": {
      "name": "python"
    },
    "accelerator": "GPU"
  },
  "cells": [
    {
      "cell_type": "markdown",
      "metadata": {
        "id": "view-in-github",
        "colab_type": "text"
      },
      "source": [
        "<a href=\"https://colab.research.google.com/github/felipeserna/holbertonschool-machine_learning/blob/master/supervised_learning/0x09-transfer_learning/transfer_learning.ipynb\" target=\"_parent\"><img src=\"https://colab.research.google.com/assets/colab-badge.svg\" alt=\"Open In Colab\"/></a>"
      ]
    },
    {
      "cell_type": "code",
      "metadata": {
        "id": "3AhEvLo0dU7A",
        "colab": {
          "base_uri": "https://localhost:8080/"
        },
        "outputId": "397cdce6-e1e8-4f7a-8d8e-21d9ca6e9567"
      },
      "source": [
        "#!/usr/bin/env python3\n",
        "\"\"\"\n",
        "Script that trains a convolutional neural network\n",
        "to classify the CIFAR 10 dataset.\n",
        "In the same file, write a function 'def preprocess_data(X, Y):'\n",
        "that pre-processes the data for your model\n",
        "\"\"\"\n",
        "\n",
        "\n",
        "import tensorflow.keras as K\n",
        "\n",
        "\n",
        "def preprocess_data(X, Y):\n",
        "    \"\"\"\n",
        "    Returns: X_p, Y_p\n",
        "    \"\"\"\n",
        "    # Preprocessing needed in each Keras Application\n",
        "    X_p = K.applications.densenet.preprocess_input(X)\n",
        "    # Converts a label vector into a one-hot matrix\n",
        "    Y_p = K.utils.to_categorical(Y, num_classes=10)\n",
        "\n",
        "    return X_p, Y_p\n",
        "\n",
        "\n",
        "if __name__ == \"__main__\":\n",
        "    # Dataset of 50,000 32x32 color training images and 10,000 test images,\n",
        "    # labeled over 10 categories\n",
        "    (x_train, y_train), (X, Y) = K.datasets.cifar10.load_data()\n",
        "\n",
        "    # preprocessing\n",
        "    x_train_p, y_train_p = preprocess_data(x_train, y_train)\n",
        "    x_test_p, y_test_p = preprocess_data(X, Y)\n",
        "\n",
        "    # DenseNet121\n",
        "    #  loads weights pre-trained on ImageNet\n",
        "    dense_121 = K.applications.DenseNet121(weights='imagenet',\n",
        "                                           include_top=False,\n",
        "                                           input_shape=(224, 224, 3))\n",
        "\n",
        "    dense_121.trainable = False\n",
        "\n",
        "    input = K.Input(shape=(32, 32, 3))\n",
        "    # lambtha layer scales up the data to the correct size\n",
        "    lambtha = K.layers.Lambda(lambda X: K.backend.resize_images(X, 7, 7,\n",
        "                              data_format=\"channels_last\",\n",
        "                              interpolation='bilinear'))(input)\n",
        "    output = dense_121(lambtha, training=False)\n",
        "    output = K.layers.Flatten()(output)\n",
        "    output = K.layers.Dense(512, activation='relu')(output)\n",
        "    output = K.layers.Dropout(0.2)(output)\n",
        "    output = K.layers.Dense(256, activation='relu')(output)\n",
        "    output = K.layers.Dropout(0.2)(output)\n",
        "    output = K.layers.Dense(128, activation='relu')(output)\n",
        "    output = K.layers.Dropout(0.2)(output)\n",
        "    output = K.layers.Dense(10, activation='softmax')(output)\n",
        "\n",
        "    model = K.Model(input, output)\n",
        "\n",
        "    model.compile(optimizer='adam', loss='categorical_crossentropy',\n",
        "                  metrics=['acc'])\n",
        "\n",
        "    # training\n",
        "    history = model.fit(x=x_train_p, y=y_train_p,\n",
        "                        batch_size=128, epochs=5,\n",
        "                        validation_data=(x_test_p, y_test_p),\n",
        "                        verbose=1)\n",
        "\n",
        "    model.save('cifar10.h5')"
      ],
      "execution_count": 1,
      "outputs": [
        {
          "output_type": "stream",
          "text": [
            "Downloading data from https://www.cs.toronto.edu/~kriz/cifar-10-python.tar.gz\n",
            "170500096/170498071 [==============================] - 4s 0us/step\n",
            "Downloading data from https://storage.googleapis.com/tensorflow/keras-applications/densenet/densenet121_weights_tf_dim_ordering_tf_kernels_notop.h5\n",
            "29089792/29084464 [==============================] - 0s 0us/step\n",
            "Epoch 1/5\n",
            "391/391 [==============================] - 203s 422ms/step - loss: 0.7992 - acc: 0.7879 - val_loss: 0.3495 - val_acc: 0.8857\n",
            "Epoch 2/5\n",
            "391/391 [==============================] - 164s 420ms/step - loss: 0.3668 - acc: 0.8832 - val_loss: 0.3228 - val_acc: 0.8961\n",
            "Epoch 3/5\n",
            "391/391 [==============================] - 164s 419ms/step - loss: 0.2815 - acc: 0.9102 - val_loss: 0.3125 - val_acc: 0.9053\n",
            "Epoch 4/5\n",
            "391/391 [==============================] - 163s 418ms/step - loss: 0.2331 - acc: 0.9245 - val_loss: 0.3053 - val_acc: 0.9054\n",
            "Epoch 5/5\n",
            "391/391 [==============================] - 164s 419ms/step - loss: 0.1972 - acc: 0.9348 - val_loss: 0.3181 - val_acc: 0.9054\n"
          ],
          "name": "stdout"
        }
      ]
    },
    {
      "cell_type": "code",
      "metadata": {
        "colab": {
          "base_uri": "https://localhost:8080/"
        },
        "id": "21OqvQpJViZ1",
        "outputId": "f677f5ef-15f3-49f2-ce3c-4380ac80c36b"
      },
      "source": [
        "# to fix issue with saving keras applications\n",
        "K.learning_phase = K.backend.learning_phase \n",
        "\n",
        "_, (X, Y) = K.datasets.cifar10.load_data()\n",
        "X_p, Y_p = preprocess_data(X, Y)\n",
        "model = K.models.load_model('cifar10.h5')\n",
        "model.evaluate(X_p, Y_p, batch_size=128, verbose=1)"
      ],
      "execution_count": 2,
      "outputs": [
        {
          "output_type": "stream",
          "text": [
            "79/79 [==============================] - 30s 356ms/step - loss: 0.3181 - acc: 0.9054\n"
          ],
          "name": "stdout"
        },
        {
          "output_type": "execute_result",
          "data": {
            "text/plain": [
              "[0.31812506914138794, 0.9053999781608582]"
            ]
          },
          "metadata": {
            "tags": []
          },
          "execution_count": 2
        }
      ]
    }
  ]
}